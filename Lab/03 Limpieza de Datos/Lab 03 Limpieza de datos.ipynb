{
 "cells": [
  {
   "cell_type": "markdown",
   "metadata": {},
   "source": [
    "# **Laboratorio 03: Limpieza de datos y análisis de Cambio Climático con Python y Pandas**  \n",
    "\n",
    "## **Objetivo:**  \n",
    "El objetivo de este laboratorio es aplicar técnicas de análisis de datos para explorar la evolución de la temperatura global, realizar limpieza y transformación de datos, y extraer insights a partir de visualizaciones. Además, se combina con otras variables relevantes en el cambio climático, tales como la deforestación, las emisiones de CO₂ y el crecimiento poblacional.  \n",
    "\n",
    "## **Datos a utilizar:**  \n",
    "- **Fuente principal:** [Global Land Temperature by Country - Kaggle](https://www.kaggle.com/datasets/berkeleyearth/climate-change-earth-surface-temperature-data)  \n",
    "- **Otras fuentes:** Bases de datos sobre emisiones de CO₂, deforestación y población.Estos Datasets relacionados con el cambio climatico se pueden encontrar en el siguiente enlace del [Banco Mundial](https://data.worldbank.org/topic/climate-change).\n",
    "\n",
    "    Ejemplos de datasets que se pueden utilizar para el estudio.\n",
    "\n",
    "    * Cantidad de emision de CO2 en kilotones, [CO2 (kt)](https://data.worldbank.org/indicator/EN.GHG.CO2.IC.MT.CE.AR5).\n",
    "    * Cantidad de bosques deforestados en km2, [Forest (km2)](https://data.worldbank.org/indicator/AG.LND.FRST.K2).\n",
    "    * Cantidad de agricultura por pais en km2, [Agricultura (km2)](https://data.worldbank.org/indicator/AG.LND.AGRI.K2).\n",
    "    * La poblacion de cada uno de los paises, [Population (7mM)](https://data.worldbank.org/indicator/SP.POP.TOTL).\n",
    "    * Cantidad de energia electrica consumida en kWh per capita, [Electric power consumption (kWh per capita)](https://data.worldbank.org/indicator/EG.USE.ELEC.KH.PC).\n",
    "\n",
    "## **Metodología y Actividades:**  \n",
    "\n",
    "### **1. Preprocesamiento y limpieza de datos**  \n",
    "- Cargar el dataset de temperatura global.  \n",
    "- Identificar y procesar los valores nulos.  \n",
    "- Normalizar nombres de columnas y estandarizar formatos de texto.  \n",
    "- Identificar y procesar los valores atípicos mediante visualización y estadísticas descriptivas.  \n",
    "- Convertir tipos de datos según la información de los campos.  \n",
    "\n",
    "### **2. Filtrado y consolidación de datos**  \n",
    "- Filtrar registros para trabajar solo con datos posteriores a 1970.  \n",
    "- Agrupar por país y año, calculando estadísticas relevantes:  \n",
    "  - **Media** y **mediana** de la temperatura anual por país.  \n",
    "- Crear una nueva columna con el año extraído de la fecha para facilitar análisis.  \n",
    "\n",
    "### **3. Visualización y exploración de tendencias**  \n",
    "- Seleccionar un país y graficar la evolución anual de la temperatura usando:  \n",
    "  - Gráficos de línea comparando media y mediana.  \n",
    "  - Análisis de tendencias y comportamiento de la serie temporal.  \n",
    "- Justificar el uso de la mediana como una mejor métrica en presencia de valores atípicos.  \n",
    "- Crear un **boxplot** para analizar la variabilidad de temperatura por país.  \n",
    "- Si el gráfico contiene demasiados países, aplicar una muestra aleatoria con el método `.sample()` para mejorar la interpretación.  \n",
    "\n",
    "### **4. Incorporación de variables adicionales**  \n",
    "- Integrar datasets por ejemplo **deforestación, emisiones de CO₂ y población**.  \n",
    "- Preprocesar cada dataset para hacerlos compatibles con la base de temperatura.  \n",
    "- Unir las bases de datos en un único DataFrame consolidado.  \n",
    "\n",
    "### **5. Análisis comparativo y correlaciones**  \n",
    "- Identificar los **10 países con mayores emisiones de CO₂**.  \n",
    "- Relacionar emisiones de CO₂ con el aumento de temperatura.  \n",
    "- Explorar la relación entre deforestación y temperatura.  \n",
    "- Analizar si hay relación entre crecimiento poblacional y temperatura.  \n",
    "- Generar un gráficos para visualizar esta relación entre las variables.  \n",
    "\n",
    "## **Resultados esperados:**  \n",
    "- Un dataset limpio y consolidado con variables clave para el análisis del cambio climático.  \n",
    "- Visualizaciones que permitan extraer insights sobre tendencias de temperatura y su relación con otras variables.  \n",
    "- Realizar una descripción de los resultados obtenidos.  \n",
    "\n",
    "## **Entregables:**  \n",
    "- Un documento en **PDF** generado a partir del cuaderno de Jupyter, acompañado del archivo fuente en formato **_.ipynb_**.  \n",
    "- El documento debe incluir explicaciones detalladas en cada sección, describiendo el proceso, los análisis realizados y las conclusiones obtenidas.  \n",
    "- La entrega se considerará completa una vez que el grupo presente y sustente el laboratorio ante el instructor.  \n"
   ]
  },
  {
   "cell_type": "code",
   "execution_count": null,
   "metadata": {},
   "outputs": [],
   "source": [
    "# Codigo sigue aquí"
   ]
  }
 ],
 "metadata": {
  "language_info": {
   "name": "python"
  }
 },
 "nbformat": 4,
 "nbformat_minor": 2
}
