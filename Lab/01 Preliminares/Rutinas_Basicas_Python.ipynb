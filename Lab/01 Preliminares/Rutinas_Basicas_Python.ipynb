{
 "cells": [
  {
   "cell_type": "markdown",
   "id": "b95eb2bd",
   "metadata": {},
   "source": [
    "\n",
    "# Rutinas Básicas en Python\n",
    "Este notebook está diseñado para ayudarte a practicar los conceptos fundamentales de Python, que incluyen:\n",
    "1. Operaciones básicas.\n",
    "2. Estructuras de datos.\n",
    "3. Funciones y clases.\n",
    "4. Introducción a librerías comunes (NumPy, pandas, Matplotlib).\n",
    "\n",
    "\n"
   ]
  },
  {
   "cell_type": "code",
   "execution_count": 6,
   "id": "e619022d",
   "metadata": {},
   "outputs": [
    {
     "name": "stdout",
     "output_type": "stream",
     "text": [
      "Suma: 13\n",
      "Resta: 7\n",
      "Multiplicación: 30\n",
      "División: 3.3333333333333335\n",
      "División Entera: 3\n",
      "Residuo: 1\n",
      "Potencia: 1000\n"
     ]
    }
   ],
   "source": [
    "\n",
    "# Operaciones Básicas\n",
    "# Suma, resta, multiplicación y división\n",
    "\n",
    "a = 10\n",
    "b = 3\n",
    "\n",
    "print(\"Suma:\", a + b)\n",
    "print(\"Resta:\", a - b)\n",
    "print(\"Multiplicación:\", a * b)\n",
    "print(\"División:\", a / b)\n",
    "print(\"División Entera:\", a // b)\n",
    "print(\"Residuo:\", a % b)\n",
    "print(\"Potencia:\", a ** b)\n"
   ]
  },
  {
   "cell_type": "code",
   "execution_count": 7,
   "id": "32c13f26",
   "metadata": {},
   "outputs": [
    {
     "name": "stdout",
     "output_type": "stream",
     "text": [
      "Lista de frutas: ['manzana', 'banano', 'cereza']\n",
      "Lista después de agregar naranja: ['manzana', 'banano', 'cereza', 'naranja']\n",
      "Tupla de números: (1, 2, 3, 4)\n",
      "Información del estudiante: {'nombre': 'Juan', 'edad': 21, 'carrera': 'Ingeniería'}\n",
      "Edad actualizada: {'nombre': 'Juan', 'edad': 22, 'carrera': 'Ingeniería'}\n"
     ]
    }
   ],
   "source": [
    "# Listas, Tuplas, Diccionarios\n",
    "\n",
    "# Lista\n",
    "frutas = [\"manzana\", \"banano\", \"cereza\"]\n",
    "print(\"Lista de frutas:\", frutas)\n",
    "frutas.append(\"naranja\")\n",
    "print(\"Lista después de agregar naranja:\", frutas)\n",
    "\n",
    "# Tupla\n",
    "numeros = (1, 2, 3, 4)\n",
    "print(\"Tupla de números:\", numeros)\n",
    "\n",
    "# Diccionario\n",
    "estudiante = {\"nombre\": \"Juan\", \"edad\": 21, \"carrera\": \"Ingeniería\"}\n",
    "print(\"Información del estudiante:\", estudiante)\n",
    "estudiante[\"edad\"] = 22\n",
    "print(\"Edad actualizada:\", estudiante)\n"
   ]
  },
  {
   "cell_type": "code",
   "execution_count": 8,
   "id": "fb8bdf74",
   "metadata": {},
   "outputs": [
    {
     "name": "stdout",
     "output_type": "stream",
     "text": [
      "El número es impar.\n",
      "Iteración 1\n",
      "Iteración 2\n",
      "Iteración 3\n",
      "Iteración 4\n",
      "Iteración 5\n",
      "Contador: 0\n",
      "Contador: 1\n",
      "Contador: 2\n"
     ]
    }
   ],
   "source": [
    "\n",
    "# Condicionales y Bucles\n",
    "\n",
    "# Condicional\n",
    "numero = 7\n",
    "if numero % 2 == 0:\n",
    "    print(\"El número es par.\")\n",
    "else:\n",
    "    print(\"El número es impar.\")\n",
    "\n",
    "# Bucle For\n",
    "for i in range(1, 6):\n",
    "    print(f\"Iteración {i}\")\n",
    "\n",
    "# Bucle While\n",
    "contador = 0\n",
    "while contador < 3:\n",
    "    print(f\"Contador: {contador}\")\n",
    "    contador += 1\n"
   ]
  },
  {
   "cell_type": "code",
   "execution_count": 9,
   "id": "a9621fce",
   "metadata": {},
   "outputs": [
    {
     "name": "stdout",
     "output_type": "stream",
     "text": [
      "Hola, Mundo!\n",
      "Suma de 5 + 3: 8\n"
     ]
    }
   ],
   "source": [
    "\n",
    "# Definición de Funciones\n",
    "\n",
    "def saludo(nombre):\n",
    "    return f\"Hola, {nombre}!\"\n",
    "\n",
    "# Llamar a la función\n",
    "print(saludo(\"Mundo\"))\n",
    "\n",
    "def suma(a, b):\n",
    "    return a + b\n",
    "\n",
    "print(\"Suma de 5 + 3:\", suma(5, 3))\n"
   ]
  },
  {
   "cell_type": "code",
   "execution_count": 10,
   "id": "99b9cbe8",
   "metadata": {},
   "outputs": [
    {
     "name": "stdout",
     "output_type": "stream",
     "text": [
      "Arreglo NumPy: [1 2 3 4 5]\n",
      "Suma de elementos: 15\n",
      "DataFrame de pandas:\n",
      "  Nombre  Edad\n",
      "0    Ana    23\n",
      "1   Luis    34\n",
      "2   Juan    45\n"
     ]
    },
    {
     "data": {
      "image/png": "[encoded data removed]",
      "text/plain": [
       "<Figure size 640x480 with 1 Axes>"
      ]
     },
     "metadata": {},
     "output_type": "display_data"
    }
   ],
   "source": [
    "\n",
    "# Introducción a Librerías\n",
    "\n",
    "# NumPy\n",
    "import numpy as np\n",
    "\n",
    "arreglo = np.array([1, 2, 3, 4, 5])\n",
    "print(\"Arreglo NumPy:\", arreglo)\n",
    "print(\"Suma de elementos:\", np.sum(arreglo))\n",
    "\n",
    "# pandas\n",
    "import pandas as pd\n",
    "\n",
    "datos = {\"Nombre\": [\"Ana\", \"Luis\", \"Juan\"], \"Edad\": [23, 34, 45]}\n",
    "df = pd.DataFrame(datos)\n",
    "print(\"DataFrame de pandas:\")\n",
    "print(df)\n",
    "\n",
    "# Matplotlib\n",
    "import matplotlib.pyplot as plt\n",
    "\n",
    "x = [1, 2, 3, 4, 5]\n",
    "y = [10, 20, 25, 30, 40]\n",
    "\n",
    "plt.plot(x, y, label=\"Crecimiento\")\n",
    "plt.xlabel(\"X\")\n",
    "plt.ylabel(\"Y\")\n",
    "plt.title(\"Ejemplo de Gráfico\")\n",
    "plt.legend()\n",
    "plt.show()\n"
   ]
  }
 ],
 "metadata": {
  "kernelspec": {
   "display_name": ".venv",
   "language": "python",
   "name": "python3"
  },
  "language_info": {
   "codemirror_mode": {
    "name": "ipython",
    "version": 3
   },
   "file_extension": ".py",
   "mimetype": "text/x-python",
   "name": "python",
   "nbconvert_exporter": "python",
   "pygments_lexer": "ipython3",
   "version": "3.9.5"
  }
 },
 "nbformat": 4,
 "nbformat_minor": 5
}
